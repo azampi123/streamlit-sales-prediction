{
 "cells": [
  {
   "cell_type": "code",
   "execution_count": 1,
   "id": "f5e60ce5",
   "metadata": {},
   "outputs": [],
   "source": [
    "#Import Libraries\n",
    "import pandas as pd\n",
    "import numpy as np\n",
    "import matplotlib.pyplot as plt\n",
    "import seaborn as sns\n",
    "import plotly.express as px\n",
    "import requests\n",
    "import json\n",
    "import xgboost\n",
    "import os\n",
    "import io\n",
    "\n",
    "from sklearn.model_selection import train_test_split\n",
    "from sklearn.preprocessing import LabelEncoder\n",
    "from sklearn.tree import DecisionTreeClassifier\n",
    "from sklearn.metrics import accuracy_score, confusion_matrix, classification_report\n",
    "from sklearn.ensemble import RandomForestClassifier\n",
    "from sklearn.model_selection import GridSearchCV\n",
    "from sklearn.metrics import accuracy_score\n",
    "from sklearn.metrics import roc_curve, auc\n",
    "from xgboost import XGBClassifier\n",
    "from catboost import CatBoostClassifier\n",
    "from sklearn.metrics import precision_recall_curve\n",
    "from sklearn.ensemble import GradientBoostingRegressor\n",
    "from sklearn.metrics import mean_squared_error\n",
    "from sklearn.preprocessing import OneHotEncoder\n",
    "from sklearn.compose import ColumnTransformer\n",
    "from sklearn.pipeline import Pipeline\n",
    "from sklearn.preprocessing import MinMaxScaler\n",
    "from sklearn.preprocessing import StandardScaler\n",
    "from scipy.stats import pearsonr\n",
    "from google.cloud import storage\n",
    "from google.oauth2 import service_account"
   ]
  },
  {
   "cell_type": "code",
   "execution_count": 2,
   "id": "3c17a6b1",
   "metadata": {},
   "outputs": [],
   "source": [
    "# Set the path to your service account key file\n",
    "key_file_path = r'C:\\Users\\002736125\\Desktop\\PERSONAL\\School\\Analytics\\ALY 6980 CAPSTONE\\healthy-booth-427815-g9-4d1f941d26d0.json'\n",
    "\n",
    "# Set the environment variable\n",
    "os.environ['GOOGLE_APPLICATION_CREDENTIALS'] = key_file_path"
   ]
  },
  {
   "cell_type": "code",
   "execution_count": 3,
   "id": "9adbddf3",
   "metadata": {},
   "outputs": [],
   "source": [
    "credentials = service_account.Credentials.from_service_account_file(r'C:\\Users\\002736125\\Desktop\\PERSONAL\\School\\Analytics\\ALY 6980 CAPSTONE\\healthy-booth-427815-g9-4d1f941d26d0.json')\n"
   ]
  },
  {
   "cell_type": "code",
   "execution_count": 4,
   "id": "c9b49bb9",
   "metadata": {},
   "outputs": [
    {
     "name": "stderr",
     "output_type": "stream",
     "text": [
      "C:\\Users\\002736125\\AppData\\Local\\Temp\\ipykernel_4020\\3739279154.py:16: DtypeWarning: Columns (0) have mixed types. Specify dtype option on import or set low_memory=False.\n",
      "  df = pd.read_csv(io.BytesIO(file_content))\n"
     ]
    }
   ],
   "source": [
    "# Initialize Google Cloud Storage client\n",
    "client = storage.Client(credentials=credentials)\n",
    "\n",
    "# Replace 'your_bucket_name' with your Google Cloud Storage bucket name\n",
    "bucket_name = 'aly6980'\n",
    "blob_name = 'New_MDS.csv'\n",
    "\n",
    "# Get the bucket and blob (file)\n",
    "bucket = client.bucket(bucket_name)\n",
    "blob = bucket.blob(blob_name)\n",
    "\n",
    "# Download the file as bytes\n",
    "file_content = blob.download_as_string()\n",
    "\n",
    "# Read CSV from bytes\n",
    "df = pd.read_csv(io.BytesIO(file_content))"
   ]
  },
  {
   "cell_type": "code",
   "execution_count": 5,
   "id": "3ca3dd5d",
   "metadata": {},
   "outputs": [
    {
     "name": "stderr",
     "output_type": "stream",
     "text": [
      "2024-06-28 11:56:59.932 \n",
      "  \u001b[33m\u001b[1mWarning:\u001b[0m to view this Streamlit app on a browser, run it with the following\n",
      "  command:\n",
      "\n",
      "    streamlit run C:\\Users\\002736125\\AppData\\Local\\anaconda3\\Lib\\site-packages\\ipykernel_launcher.py [ARGUMENTS]\n",
      "2024-06-28 11:56:59.932 Session state does not function when running a script without `streamlit run`\n"
     ]
    }
   ],
   "source": [
    "import streamlit as st\n",
    "import pandas as pd\n",
    "from sklearn.ensemble import GradientBoostingRegressor\n",
    "\n",
    "# Selecting the specified variables\n",
    "variables_to_use = [\n",
    "    'PP Buy Box', 'PP Units', 'PP Sales', 'PP Orders', 'PP CR%',\n",
    "    'PY Page Views', 'PY Buy Box', 'PY Units', 'PY Sales', 'PY Orders', 'PY CR%',\n",
    "    'Total Sales', 'Total Campaigns', 'Ad Spend'\n",
    "]\n",
    "\n",
    "# Dropping rows with missing values and selecting features and target variable\n",
    "df_cleaned = df[variables_to_use].dropna()\n",
    "X = df_cleaned.drop(columns=['Total Sales'])  # Features\n",
    "y = df_cleaned['Total Sales']  # Target variable\n",
    "\n",
    "# Instantiate the Gradient Boosting Regressor model\n",
    "gb_model = GradientBoostingRegressor(n_estimators=100, learning_rate=0.1, random_state=42)\n",
    "\n",
    "# Train the model\n",
    "gb_model.fit(X, y)\n",
    "\n",
    "# Define the Streamlit app\n",
    "def main():\n",
    "    st.title(\"Total Sales Prediction App\")\n",
    "    \n",
    "    # Add input fields for variables\n",
    "    pp_buy_box = st.number_input(\"Enter PP Buy Box\", value=1)\n",
    "    pp_units = st.number_input(\"Enter PP Units\", value=10)\n",
    "    pp_sales = st.number_input(\"Enter PP Sales\", value=385)\n",
    "    pp_orders = st.number_input(\"Enter PP Orders\", value=9)\n",
    "    pp_cr = st.number_input(\"Enter PP CR%\", value=0.2)\n",
    "    py_page_views = st.number_input(\"Enter PY Page Views\", value=289)\n",
    "    py_buy_box = st.number_input(\"Enter PY Buy Box\", value=1)\n",
    "    py_units = st.number_input(\"Enter PY Units\", value=10)\n",
    "    py_sales = st.number_input(\"Enter PY Sales\", value=405)\n",
    "    py_orders = st.number_input(\"Enter PY Orders\", value=9)\n",
    "    py_cr = st.number_input(\"Enter PY CR%\", value=0.2)\n",
    "    total_campaigns = st.number_input(\"Enter Total Campaigns\", value=162)\n",
    "    ad_spend = st.number_input(\"Enter Ad Spend\", value=39)\n",
    "    # Add input fields for other variables...\n",
    "    \n",
    "    # Make predictions\n",
    "    if st.button(\"Predict Total Sales\"):\n",
    "        input_data = [[pp_buy_box, pp_units, pp_sales, pp_orders, pp_cr, py_page_views, py_buy_box,\n",
    "                       py_units, py_sales, py_orders, py_cr, total_campaigns, ad_spend]]\n",
    "        prediction = gb_model.predict(input_data)\n",
    "        st.success(f\"Predicted Total Sales: {prediction[0]}\")\n",
    "\n",
    "if __name__ == \"__main__\":\n",
    "    main()\n"
   ]
  },
  {
   "cell_type": "code",
   "execution_count": null,
   "id": "ca85a6bd",
   "metadata": {},
   "outputs": [],
   "source": []
  }
 ],
 "metadata": {
  "kernelspec": {
   "display_name": "Python 3 (ipykernel)",
   "language": "python",
   "name": "python3"
  },
  "language_info": {
   "codemirror_mode": {
    "name": "ipython",
    "version": 3
   },
   "file_extension": ".py",
   "mimetype": "text/x-python",
   "name": "python",
   "nbconvert_exporter": "python",
   "pygments_lexer": "ipython3",
   "version": "3.11.5"
  }
 },
 "nbformat": 4,
 "nbformat_minor": 5
}
